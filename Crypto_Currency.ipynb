{
 "cells": [
  {
   "cell_type": "markdown",
   "metadata": {},
   "source": [
    "# TO DO:\n",
    "\n",
    "- Make generic functions for tasks for modularity\n",
    "- CRON jobs for all timeframes\n",
    "- One function to update all csvs\n",
    "- Plug n play for indicators\n",
    "- Add limit to queries\n",
    "- Include Active/Inactive column in CSV for active/inactive coins\n",
    "- Update_CSV_to_Latest should contain active coins from Exchanges and From CSV. Check if a (coin,exchange) tuple is active(Check if it is present on exchange using ccxt library) . If it is active   get latest data for it if already present in CSV,if not in CSV get all data. If coin is not active on exchange , we will put a Active/Inactive status in CSV accordingly. All functions will have   to be modified to run code only for active coin-exchange combinations.\n",
    "- Date Format will be '%d-%m-%Y %H:%M:%S' . This is giving me a lot of problems especially while reading data. When I don't put :%S it tells me dataframe has second and sometimes when :%S is         there, it tells me no second value in dataframe.\n",
    "- Analytics Value Accuracy. Some parameter in Jupyter.\n",
    "- Have to fetch Coins based on Parameters. Example - Fetch all active coins-exchange combinations where RSI>0 and RSI<=30. Fetch all active coins-exchange combinations where closing price is         between LOWERBAND and MIDDLEBAND. Get me intersection(common coins) of these 2 list. Now the coin from the intersection list which probably has the lowest volume can increase in price faster       then the others(Little increase in Volume will result in Big increase in Price)\n",
    "- For each active coin-exchange combination I want to check the change in Value of different Technical Indicators of 2 consecutive periods in time. Example - I want to know if for a particular       coin RSI=a on period x and RSI>a on period x+1. I want to know whenever MACD and MACD_SIGNAL cross each other(On period x MACD=a and MACD_SIGNAL=b where a<=b and on period x+1 MACD=a and           MACD_SIGNAL=b where a>b. MACD_HISTOGRAM same like RSI want to know when it is 'a' on period x and 'a++' on period x+1).\n",
    "- Convert 1D timeframe to 3D/1Week/etc. Convert 1H timeframe to 4H/6H/etc.\n",
    "- Batch Processing of downloading new coins data\n"
   ]
  },
  {
   "cell_type": "code",
   "execution_count": null,
   "metadata": {},
   "outputs": [],
   "source": [
    "#import sys\n",
    "#!conda install --yes --prefix {sys.prefix} yaml"
   ]
  },
  {
   "cell_type": "code",
   "execution_count": null,
   "metadata": {},
   "outputs": [],
   "source": [
    "#import sys\n",
    "#!{sys.executable} -m pip install pyyaml"
   ]
  },
  {
   "cell_type": "code",
   "execution_count": null,
   "metadata": {},
   "outputs": [],
   "source": [
    "print(yaml.__file__)\n"
   ]
  },
  {
   "cell_type": "code",
   "execution_count": null,
   "metadata": {},
   "outputs": [],
   "source": [
    "import os\n",
    "import time\n",
    "#import talib\n",
    "import logging\n",
    "import requests\n",
    "import datetime\n",
    "import importlib\n",
    "import dateutil.parser\n",
    "import ccxt\n",
    "import numpy as np\n",
    "import pandas as pd\n",
    "from importlib import reload\n",
    "from collections import defaultdict\n",
    "import sys\n",
    "import inspect\n",
    "import pyti\n",
    "import pprint\n",
    "from apscheduler.schedulers.background import BackgroundScheduler\n",
    "from sqlalchemy import create_engine, MetaData, Table, Column, Integer, String\n",
    "import yaml"
   ]
  },
  {
   "cell_type": "code",
   "execution_count": null,
   "metadata": {},
   "outputs": [],
   "source": [
    "coinmetrics_wrapper = 'coinmetrics_wrapper.py'\n",
    "coinmetrics_wrapper"
   ]
  },
  {
   "cell_type": "code",
   "execution_count": null,
   "metadata": {},
   "outputs": [],
   "source": [
    "import coinmetrics_wrapper as coinmetrics\n",
    "reload(coinmetrics)"
   ]
  },
  {
   "cell_type": "code",
   "execution_count": null,
   "metadata": {},
   "outputs": [],
   "source": [
    "importlib.reload(logging)\n",
    "LOGGING_FORMAT = '%(asctime)s - %(levelname)s - %(message)s'\n",
    "logging.basicConfig(format=LOGGING_FORMAT, level=logging.\n",
    "                    INFO)\n",
    "#sqlalchemy.__version__\n",
    "pd.__version__"
   ]
  },
  {
   "cell_type": "code",
   "execution_count": null,
   "metadata": {},
   "outputs": [],
   "source": [
    "# FIELDS\n",
    "PRICE = 'PRICE'\n",
    "HIGH = 'HIGH24HOUR'\n",
    "LOW = 'LOW24HOUR'\n",
    "VOLUME = 'VOLUME24HOUR'\n",
    "CHANGE = 'CHANGE24HOUR'\n",
    "CHANGE_PERCENT = 'CHANGEPCT24HOUR'\n",
    "MARKETCAP = 'MKTCAP'\n",
    "NPERIODS = 100\n",
    "TIMEFRAME = 'Day'\n",
    "datetimeStringformat_to_csv = \"%d-%m-%Y %H:%M\"\n",
    "one_day_in_milliseconds = 86400000\n",
    "data_directory = '/Users/ankitaggarwal/Applications/Cryptocurrency Trading System/crypto-analysis/data/'"
   ]
  },
  {
   "cell_type": "code",
   "execution_count": null,
   "metadata": {},
   "outputs": [],
   "source": []
  },
  {
   "cell_type": "code",
   "execution_count": null,
   "metadata": {},
   "outputs": [],
   "source": [
    "# Defaults\n",
    "# Get All the exchange objects\n",
    "bittrex_exchange = ccxt.bittrex()\n",
    "binance_exchange = ccxt.binance()\n",
    "coinbasePro = ccxt.coinbasepro()\n",
    "\"\"\"\n",
    "kucoin_exchange = ccxt.kucoin()\n",
    "huobiPro_exchange = ccxt.huobipro()\n",
    "bitmex_exchange = ccxt.bitmex()\n",
    "\"\"\"\n",
    "\n",
    "\n",
    "list_of_exchanges = [coinbasePro,binance_exchange]\n",
    "function_period_mapping = {\n",
    "    'assets': coinmetrics.get_coin_list,\n",
    "    'exchanges': coinmetrics.get_exchanges_list,\n",
    "    'markets': coinmetrics.get_markets_list,\n",
    "    'metrics' : coinmetrics.get_metrics_list,\n",
    "    'metric_info' : coinmetrics.get_metrics_info_list\n",
    "}"
   ]
  },
  {
   "cell_type": "code",
   "execution_count": null,
   "metadata": {},
   "outputs": [],
   "source": [
    "# Limit of Results each exchange Sends over HTTPS Request\n",
    "limit_of_trades_to_be_downloaded_from_exchange = {binance_exchange :500,coinbasePro:100} # got this from online API Documentation"
   ]
  },
  {
   "cell_type": "markdown",
   "metadata": {},
   "source": [
    "# Print All the Keys of the Exchange Variable"
   ]
  },
  {
   "cell_type": "code",
   "execution_count": null,
   "metadata": {},
   "outputs": [],
   "source": [
    "pprint.pprint(vars(coinbasePro))"
   ]
  },
  {
   "cell_type": "code",
   "execution_count": null,
   "metadata": {},
   "outputs": [],
   "source": [
    "pprint.pprint(vars(binance_exchange))"
   ]
  },
  {
   "cell_type": "code",
   "execution_count": null,
   "metadata": {},
   "outputs": [],
   "source": [
    "binance_exchange.milliseconds()"
   ]
  },
  {
   "cell_type": "code",
   "execution_count": null,
   "metadata": {},
   "outputs": [],
   "source": [
    "binance_exchange.to_datetime()\n"
   ]
  },
  {
   "cell_type": "markdown",
   "metadata": {},
   "source": [
    "# For All Exchanges, Get it's Market"
   ]
  },
  {
   "cell_type": "code",
   "execution_count": null,
   "metadata": {},
   "outputs": [],
   "source": [
    "# For every exchange, fetch it's markets. Then depending on the JSON returned, prepare a list of coins for which historical data has to be downloaded.\n",
    "def setupExchanges(list_of_exchanges):\n",
    "    done = False\n",
    "    i=0\n",
    "    #df_markets = pd.DataFrame(markets)\n",
    "    #bittrex_market = bittrex_exchange.fetchMarkets()\n",
    "    #binance_market = binance_exchange.fetchMarkets()\n",
    "    #kucoin_market = kucoin_exchange.fetchMarkets()\n",
    "    #list_of_markets = [#bittrex_market,\n",
    "                       #binance_market\n",
    "     #                  kucoin_market #For kucoin the fetchMarkets function returns different dictionary keys\n",
    "      #                  ]\n",
    "\n",
    "    list_of_tuples = []\n",
    "    for exchange in list_of_exchanges:\n",
    "        coins_list = set()\n",
    "        #if exchange.name == 'Cryptopia' or exchange.name == 'Bittrex' or exchange.name == 'Kucoin' or exchange.name == 'Huobi Pro':\n",
    "            #continue #exchange.name == 'Binance' or \n",
    "        markets = exchange.fetchMarkets()\n",
    "        pprint.pprint(markets[0])\n",
    "        sys.exit(0)\n",
    "        for row in markets:\n",
    "            #row.base,row.quote,row.symbol,row.type,row.active\n",
    "            #print(row.keys())\n",
    "            tuple_data = (exchange.name,row['base'],row['quote'],row['symbol'],row['active'])\n",
    "            list_of_tuples.append(tuple_data)\n",
    "            \n",
    "    return list_of_tuples"
   ]
  },
  {
   "cell_type": "code",
   "execution_count": null,
   "metadata": {},
   "outputs": [],
   "source": []
  },
  {
   "cell_type": "code",
   "execution_count": null,
   "metadata": {},
   "outputs": [],
   "source": [
    "setupExchanges(list_of_exchanges)"
   ]
  },
  {
   "cell_type": "markdown",
   "metadata": {},
   "source": [
    "\n",
    "## For All the Exchanges, if it sends Historical Trade Data, Get It, Some Exchanges Only Send Recent Trade Data(Top 100),\n",
    "## others will send complete Trade Data. Define interval - (todays time in UTC milliseconds - 1 day,todays time in UTC milliseconds)\n",
    " ## and keep going back\n",
    " "
   ]
  },
  {
   "cell_type": "code",
   "execution_count": null,
   "metadata": {},
   "outputs": [],
   "source": [
    "def fetchTrades(exchange,symbol,start_time,end_time,how_many_result_limit,api_rate_limit,current_trade_id):\n",
    "        #since = milliseconds - 86400000  # -1 day from now\n",
    "        # alternatively, fetch from a certain starting datetime\n",
    "        all_trades = []\n",
    "        first_order_time = -1\n",
    "        while start_time < end_time:\n",
    "            print(start_time,end_time,len(all_trades),current_trade_id)\n",
    "            trades =  exchange.fetch_trades(symbol, start_time, how_many_result_limit)\n",
    "            time.sleep(api_rate_limit)\n",
    "            #pprint.pprint(trades[0])\n",
    "            #sys.exit(0)\n",
    "            if len(trades):\n",
    "                start_time = trades[len(trades) - 1]['timestamp']\n",
    "                if trades[len(trades) - 1]['id'] == current_trade_id:\n",
    "                    break\n",
    "                current_trade_id = trades[len(trades) - 1]['id']\n",
    "                if first_order_time == -1:\n",
    "                    first_order_time = trades[0]['timestamp']\n",
    "                all_trades += trades\n",
    "            else:\n",
    "                break\n",
    "            #print(start_time,end_time)\n",
    "        return (all_trades,first_order_time,current_trade_id)"
   ]
  },
  {
   "cell_type": "code",
   "execution_count": null,
   "metadata": {},
   "outputs": [],
   "source": [
    "#for exchange in list_of_exchanges:\n",
    "all_trades = []\n",
    "for exchange in list_of_exchanges:\n",
    "    if exchange.has['fetchTrades']:\n",
    "        markets = exchange.fetchMarkets()\n",
    "        for row in markets:\n",
    "            start_time = exchange.milliseconds() - one_day_in_milliseconds\n",
    "            end_time = exchange.milliseconds()\n",
    "            rate_limit = exchange.rateLimit/1000\n",
    "            got_trades = True\n",
    "            i=1\n",
    "            current_trade_id = -1\n",
    "            symbol = row['symbol']\n",
    "            while(got_trades):\n",
    "                print(start_time,end_time,'hello',len(all_trades))\n",
    "                trades_and_first_trade_time = fetchTrades(exchange,symbol,start_time,end_time,\n",
    "                                                                      limit_of_trades_to_be_downloaded_from_exchange[exchange],\n",
    "                                                         rate_limit,current_trade_id)\n",
    "                if len(trades_and_first_trade_time[0]):\n",
    "                    if trades_and_first_trade_time[2] == current_trade_id:\n",
    "                        break\n",
    "                    current_trade_id = trades_and_first_trade_time[2]\n",
    "                    all_trades += trades_and_first_trade_time[0]\n",
    "                    end_time = start_time\n",
    "                    start_time = start_time-one_day_in_milliseconds\n",
    "                else:\n",
    "                    got_trades = False\n",
    "                    break\n"
   ]
  },
  {
   "cell_type": "code",
   "execution_count": null,
   "metadata": {},
   "outputs": [],
   "source": [
    "def fetchOrders(exchange,symbol,since,limit,milliseconds):\n",
    "    if exchange.has['fetchOrders']:\n",
    "        since = milliseconds - 86400000  # -1 day from now\n",
    "        # alternatively, fetch from a certain starting datetime\n",
    "        # since = exchange.parse8601('2018-01-01T00:00:00Z')\n",
    "        all_orders = []\n",
    "        while since < exchange.milliseconds ():\n",
    "            symbol = None  # change for your symbol\n",
    "            limit = 20  # change for your limit\n",
    "            orders = await exchange.fetch_orders(symbol, since, limit)\n",
    "            if len(orders):\n",
    "                since = orders[len(orders) - 1]['timestamp']\n",
    "                all_orders += orders\n",
    "            else:\n",
    "                break"
   ]
  },
  {
   "cell_type": "code",
   "execution_count": null,
   "metadata": {},
   "outputs": [],
   "source": [
    "def fetchOHLCV(exchange,symbol,timeframe,start_time,end_time,how_many_result_limit,api_rate_limit):\n",
    "    all_OHLCV = []\n",
    "    first_OHLCV_Candle_time = -1\n",
    "    previous_start_time = -1\n",
    "    while start_time < end_time:\n",
    "        print(start_time,end_time,len(all_OHLCV))\n",
    "        OHLCV_data =  exchange.fetchOHLCV(symbol,timeframe, start_time, how_many_result_limit)\n",
    "        time.sleep(api_rate_limit)\n",
    "        #pprint.pprint(trades[0])\n",
    "        #sys.exit(0)\n",
    "        if len(OHLCV_data):\n",
    "            if previous_start_time == start_time:\n",
    "                break\n",
    "            previous_start_time = start_time\n",
    "            start_time = OHLCV_data[len(OHLCV_data) - 1][0]\n",
    "            if first_OHLCV_Candle_time == -1:\n",
    "                first_OHLCV_Candle_time = OHLCV_data[0][0]\n",
    "            all_OHLCV += OHLCV_data\n",
    "        else:\n",
    "            break\n",
    "        #print(start_time,end_time)\n",
    "    return (all_OHLCV,first_OHLCV_Candle_time)"
   ]
  },
  {
   "cell_type": "code",
   "execution_count": null,
   "metadata": {},
   "outputs": [],
   "source": [
    "all_OHLCV = []\n",
    "for exchange in list_of_exchanges:\n",
    "    if exchange.has['fetchOHLCV']:\n",
    "        timeframes = exchange.timeframes.keys()\n",
    "        for timeframe in timeframes:\n",
    "            markets = exchange.fetchMarkets()\n",
    "            for row in markets:\n",
    "                start_time = exchange.milliseconds() - one_day_in_milliseconds\n",
    "                end_time = exchange.milliseconds()\n",
    "                rate_limit = exchange.rateLimit/1000\n",
    "                gotOHLCV = True\n",
    "                #current_trade_id = -1\n",
    "                symbol = row['symbol']\n",
    "                while(gotOHLCV):\n",
    "                    print(start_time,end_time,'hello',len(all_OHLCV))\n",
    "                    OHLCV_data = fetchOHLCV(exchange,symbol,timeframe,start_time,end_time,\n",
    "                                                                          limit_of_trades_to_be_downloaded_from_exchange[exchange],\n",
    "                                                             rate_limit)\n",
    "                    if len(OHLCV_data[0]):\n",
    "                        all_OHLCV += OHLCV_data[0]\n",
    "                        end_time = start_time\n",
    "                        start_time = start_time-one_day_in_milliseconds\n",
    "                    else:\n",
    "                        gotOHLCV = False\n",
    "                        break\n",
    "        "
   ]
  },
  {
   "cell_type": "code",
   "execution_count": null,
   "metadata": {},
   "outputs": [],
   "source": [
    "tickers_list = []\n",
    "def fetchTickers():\n",
    "    for exchange in list_of_exchanges:\n",
    "        if exchange.has['fetchTickers']:\n",
    "            tickers = exchange.fetch_tickers()\n",
    "            tickers_list.append(tickers)\n",
    "        else:\n",
    "            markets = exchange.fetch_markets()\n",
    "            for row in markets:\n",
    "                tickers = exchange.fetch_ticker(row['symbol'])\n",
    "                tickers_list.append(tickers)"
   ]
  },
  {
   "cell_type": "code",
   "execution_count": null,
   "metadata": {},
   "outputs": [],
   "source": [
    "#Experimental Cell\n",
    "exchange = coinbasePro\n",
    "if exchange.has['fetchTickers']:\n",
    "    tickers = exchange.fetch_tickers()\n",
    "    print(tickers[0])\n",
    "else:\n",
    "    ticker = exchange.fetch_ticker('ETH/BTC');\n",
    "    print(ticker)"
   ]
  },
  {
   "cell_type": "code",
   "execution_count": null,
   "metadata": {},
   "outputs": [],
   "source": [
    "def get_coin_metrics_data(data_parameter):\n",
    "    data = function_period_mapping[data_parameter]()\n",
    "    #print(data)\n",
    "    return data"
   ]
  },
  {
   "cell_type": "code",
   "execution_count": null,
   "metadata": {},
   "outputs": [],
   "source": [
    "get_coin_metrics_data('metrics')"
   ]
  },
  {
   "cell_type": "code",
   "execution_count": null,
   "metadata": {},
   "outputs": [],
   "source": [
    "metric_info_json_file = get_coin_metrics_data('metric_info')\n",
    "metric_info_json_file['metricsInfo']"
   ]
  },
  {
   "cell_type": "code",
   "execution_count": 79,
   "metadata": {},
   "outputs": [
    {
     "name": "stdout",
     "output_type": "stream",
     "text": [
      "                    id                                               name  \\\n",
      "0            AdrActCnt                           Addresses, active, count   \n",
      "1               BlkCnt                                       Block, count   \n",
      "2          BlkSizeByte                                 Block, size, bytes   \n",
      "3      BlkSizeMeanByte                           Block, size, mean, bytes   \n",
      "4           CapMVRVCur               Capitalization, MVRV, current supply   \n",
      "5        CapMrktCurUSD        Capitalization, market, current supply, USD   \n",
      "6           CapRealUSD                      Capitalization, realized, USD   \n",
      "7             DiffMean                                   Difficulty, mean   \n",
      "8           FeeMeanNtv              Fees, transaction, mean, native units   \n",
      "9           FeeMeanUSD                       Fees, transaction, mean, USD   \n",
      "10           FeeMedNtv            Fees, transaction, median, native units   \n",
      "11           FeeMedUSD                     Fees, transaction, median, USD   \n",
      "12           FeeTotNtv                          Fees, total, native units   \n",
      "13           FeeTotUSD                                   Fees, total, USD   \n",
      "14            HashRate                                    Hash rate, mean   \n",
      "15          IssContNtv                 Issuance, continuous, native units   \n",
      "16       IssContPctAnn          Issuance, continuous, percent, annualized   \n",
      "17          IssContUSD                          Issuance, continuous, USD   \n",
      "18           IssTotNtv                      Issuance, total, native units   \n",
      "19           IssTotUSD                               Issuance, total, USD   \n",
      "20              NVTAdj                                      NVT, adjusted   \n",
      "21            NVTAdj90                              NVT, adjusted, 90d MA   \n",
      "22            PriceBTC                                         Price, BTC   \n",
      "23            PriceUSD                                         Price, USD   \n",
      "24              ROI1yr                                  ROI, percent, 1yr   \n",
      "25              ROI30d                                  ROI, percent, 30d   \n",
      "26             SplyCur                                    Supply, current   \n",
      "27  SplyExpFut10yrCMBI          Supply, future expected, next 10yr (CMBI)   \n",
      "28              SplyFF                                 Supply, free float   \n",
      "29               TxCnt                                Transactions, count   \n",
      "30            TxTfrCnt                     Transactions, transfers, count   \n",
      "31      TxTfrValAdjNtv  Transactions, transfers, value, adjusted, nati...   \n",
      "32      TxTfrValAdjUSD      Transactions, transfers, value, adjusted, USD   \n",
      "33     TxTfrValMeanNtv  Transactions, transfers, value, mean, native u...   \n",
      "34     TxTfrValMeanUSD          Transactions, transfers, value, mean, USD   \n",
      "35      TxTfrValMedNtv  Transactions, transfers, value, median, native...   \n",
      "36      TxTfrValMedUSD        Transactions, transfers, value, median, USD   \n",
      "37         TxTfrValNtv       Transactions, transfers, value, native units   \n",
      "38         TxTfrValUSD                Transactions, transfers, value, USD   \n",
      "39       VtyDayRet180d                    Volatility, daily returns, 180d   \n",
      "40        VtyDayRet30d                     Volatility, daily returns, 30d   \n",
      "41        VtyDayRet60d                     Volatility, daily returns, 60d   \n",
      "\n",
      "                                          description          category  \\\n",
      "0   The sum count of unique addresses that were ac...         Addresses   \n",
      "1   The sum count of blocks created that interval ...     Network Usage   \n",
      "2   The sum of the size (in bytes) of all blocks c...     Network Usage   \n",
      "3   The mean size (in bytes) of all blocks created...     Network Usage   \n",
      "4   The ratio of the sum USD value of the current ...            Market   \n",
      "5   The sum USD value of the current supply. Also ...            Market   \n",
      "6   The sum USD value based on the USD closing pri...            Market   \n",
      "7   The mean difficulty of finding a hash that mee...            Mining   \n",
      "8   The mean fee per transaction in native units t...  Fees and Revenue   \n",
      "9   The USD value of the mean fee per transaction ...  Fees and Revenue   \n",
      "10  The median fee per transaction in native units...  Fees and Revenue   \n",
      "11  The USD value of the median fee per transactio...  Fees and Revenue   \n",
      "12  The sum of all fees paid to miners that interv...  Fees and Revenue   \n",
      "13  The sum USD value of all fees paid to miners t...  Fees and Revenue   \n",
      "14  The mean rate at which miners are solving hash...            Mining   \n",
      "15  The sum of new native units issued that interv...            Supply   \n",
      "16  The percentage of new native units (continuous...            Supply   \n",
      "17  The sum USD value of new native units issued t...            Supply   \n",
      "18  The sum of all new native units issued that in...            Supply   \n",
      "19  The sum USD value of all new native units issu...            Supply   \n",
      "20  The ratio of the network value (or market capi...         Economics   \n",
      "21  The ratio of the network value (or market capi...         Economics   \n",
      "22  The fixed closing price of the asset as of 00:...            Market   \n",
      "23  The fixed closing price of the asset as of 00:...            Market   \n",
      "24  The return on investment for the asset assumin...            Market   \n",
      "25  The return on investment for the asset assumin...            Market   \n",
      "26  The sum of all native units ever created and v...            Supply   \n",
      "27  The sum of all native units counting current s...            Supply   \n",
      "28  Free float supply refers to the number of nati...            Supply   \n",
      "29  The sum count of transactions that interval. T...      Transactions   \n",
      "30  The sum count of transfers that interval. Tran...      Transactions   \n",
      "31  The sum of native units transferred between di...      Transactions   \n",
      "32  The USD value of the sum of native units trans...      Transactions   \n",
      "33  The mean count of native units transferred per...      Transactions   \n",
      "34  The sum USD value of native units transferred ...      Transactions   \n",
      "35  The median count of native units transferred p...      Transactions   \n",
      "36  The median USD value transferred per transfer ...      Transactions   \n",
      "37  The sum of native units transferred (i.e., the...      Transactions   \n",
      "38  The sum USD value of all native units transfer...      Transactions   \n",
      "39  The 180D volatility, measured as the standard ...            Market   \n",
      "40  The 30D volatility, measured as the standard d...            Market   \n",
      "41  The 60D volatility, measured as the standard d...            Market   \n",
      "\n",
      "              subcategory  \n",
      "0                  Active  \n",
      "1                  Blocks  \n",
      "2                  Blocks  \n",
      "3                  Blocks  \n",
      "4   Market Capitalization  \n",
      "5   Market Capitalization  \n",
      "6   Market Capitalization  \n",
      "7                  Mining  \n",
      "8                    Fees  \n",
      "9                    Fees  \n",
      "10                   Fees  \n",
      "11                   Fees  \n",
      "12                   Fees  \n",
      "13                   Fees  \n",
      "14              Hash Rate  \n",
      "15               Issuance  \n",
      "16               Issuance  \n",
      "17               Issuance  \n",
      "18               Issuance  \n",
      "19               Issuance  \n",
      "20              Valuation  \n",
      "21              Valuation  \n",
      "22                  Price  \n",
      "23                  Price  \n",
      "24                Returns  \n",
      "25                Returns  \n",
      "26                Current  \n",
      "27        Future Expected  \n",
      "28             Free Float  \n",
      "29           Transactions  \n",
      "30              Transfers  \n",
      "31         Transfer Value  \n",
      "32         Transfer Value  \n",
      "33         Transfer Value  \n",
      "34         Transfer Value  \n",
      "35         Transfer Value  \n",
      "36         Transfer Value  \n",
      "37         Transfer Value  \n",
      "38         Transfer Value  \n",
      "39             Volatility  \n",
      "40             Volatility  \n",
      "41             Volatility  \n"
     ]
    }
   ],
   "source": [
    "print(pd.json_normalize(metric_info_json_file['metricsInfo']))"
   ]
  },
  {
   "cell_type": "code",
   "execution_count": null,
   "metadata": {},
   "outputs": [],
   "source": []
  }
 ],
 "metadata": {
  "kernelspec": {
   "display_name": "crypto",
   "language": "python",
   "name": "crypto"
  },
  "language_info": {
   "codemirror_mode": {
    "name": "ipython",
    "version": 3
   },
   "file_extension": ".py",
   "mimetype": "text/x-python",
   "name": "python",
   "nbconvert_exporter": "python",
   "pygments_lexer": "ipython3",
   "version": "3.8.3"
  }
 },
 "nbformat": 4,
 "nbformat_minor": 4
}
