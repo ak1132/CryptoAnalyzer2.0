{
 "cells": [
  {
   "cell_type": "code",
   "execution_count": 86,
   "metadata": {},
   "outputs": [],
   "source": [
    "TO DO:\n",
    "- Make generic functions for tasks for modularity\n",
    "- CRON jobs for all timeframes\n",
    "- One function to update all csvs\n",
    "- Plug n play for indicators\n",
    "- Add limit to queries\n",
    "- Include Active/Inactive column in CSV for active/inactive coins\n",
    "- Update_CSV_to_Latest should contain active coins from Exchanges and From CSV. Check if a (coin,exchange) tuple is active(Check if it is present on exchange using ccxt library) . If it is active   get latest data for it if already present in CSV,if not in CSV get all data. If coin is not active on exchange , we will put a Active/Inactive status in CSV accordingly. All functions will have   to be modified to run code only for active coin-exchange combinations.\n",
    "- Date Format will be '%d-%m-%Y %H:%M:%S' . This is giving me a lot of problems especially while reading data. When I don't put :%S it tells me dataframe has second and sometimes when :%S is         there, it tells me no second value in dataframe.\n",
    "- Analytics Value Accuracy. Some parameter in Jupyter.\n",
    "- Have to fetch Coins based on Parameters. Example - Fetch all active coins-exchange combinations where RSI>0 and RSI<=30. Fetch all active coins-exchange combinations where closing price is         between LOWERBAND and MIDDLEBAND. Get me intersection(common coins) of these 2 list. Now the coin from the intersection list which probably has the lowest volume can increase in price faster       then the others(Little increase in Volume will result in Big increase in Price)\n",
    "- For each active coin-exchange combination I want to check the change in Value of different Technical Indicators of 2 consecutive periods in time. Example - I want to know if for a particular       coin RSI=a on period x and RSI>a on period x+1. I want to know whenever MACD and MACD_SIGNAL cross each other(On period x MACD=a and MACD_SIGNAL=b where a<=b and on period x+1 MACD=a and           MACD_SIGNAL=b where a>b. MACD_HISTOGRAM same like RSI want to know when it is 'a' on period x and 'a++' on period x+1).\n",
    "- Convert 1D timeframe to 3D/1Week/etc. Convert 1H timeframe to 4H/6H/etc.\n",
    "- Batch Processing of downloading new coins data"
   ]
  },
  {
   "cell_type": "code",
   "execution_count": 85,
   "metadata": {},
   "outputs": [
    {
     "data": {
      "text/plain": [
       "'1.2.15'"
      ]
     },
     "execution_count": 85,
     "metadata": {},
     "output_type": "execute_result"
    }
   ],
   "source": [
    "importlib.reload(logging)\n",
    "LOGGING_FORMAT = '%(asctime)s - %(levelname)s - %(message)s'\n",
    "logging.basicConfig(format=LOGGING_FORMAT, level=logging.\n",
    "                    INFO)\n",
    "sqlalchemy.__version__"
   ]
  },
  {
   "cell_type": "code",
   "execution_count": null,
   "metadata": {},
   "outputs": [],
   "source": [
    "# FIELDS\n",
    "PRICE = 'PRICE'\n",
    "HIGH = 'HIGH24HOUR'\n",
    "LOW = 'LOW24HOUR'\n",
    "VOLUME = 'VOLUME24HOUR'\n",
    "CHANGE = 'CHANGE24HOUR'\n",
    "CHANGE_PERCENT = 'CHANGEPCT24HOUR'\n",
    "MARKETCAP = 'MKTCAP'\n",
    "NPERIODS = 100\n",
    "TIMEFRAME = 'Day'\n",
    "datetimeStringformat_to_csv = \"%d-%m-%Y %H:%M\"\n",
    "one_day_in_milliseconds = 86400000\n",
    "data_directory = '/Users/ankitaggarwal/Applications/Cryptocurrency Trading System/crypto-analysis/data/'"
   ]
  },
  {
   "cell_type": "code",
   "execution_count": null,
   "metadata": {},
   "outputs": [],
   "source": [
    "# Defaults\n",
    "\n",
    "bittrex_exchange = ccxt.bittrex()\n",
    "binance_exchange = ccxt.binance()\n",
    "coinbasePro = ccxt.coinbasepro()\n",
    "\"\"\"\n",
    "kucoin_exchange = ccxt.kucoin()\n",
    "huobiPro_exchange = ccxt.huobipro()\n",
    "bitmex_exchange = ccxt.bitmex()\n",
    "\"\"\"\n",
    "limit_of_trades_to_be_downloaded_from_exchange = {binance_exchange :500,coinbasePro:100} # got this from online API Documentation\n",
    "\n",
    "\n",
    "list_of_exchanges = [coinbasePro,binance_exchange]"
   ]
  },
  {
   "cell_type": "code",
   "execution_count": null,
   "metadata": {},
   "outputs": [],
   "source": [
    "#print (ccxt.exchanes)\n",
    "key = vars(coinbasePro)\n",
    "#pprint.pprint(key)\n",
    "pprint.pprint(binance_exchange.milliseconds())"
   ]
  },
  {
   "cell_type": "code",
   "execution_count": null,
   "metadata": {},
   "outputs": [],
   "source": [
    "pprint.pprint(vars(coinbasePro))"
   ]
  },
  {
   "cell_type": "code",
   "execution_count": null,
   "metadata": {},
   "outputs": [],
   "source": [
    "pprint.pprint(binance_exchange)"
   ]
  },
  {
   "cell_type": "code",
   "execution_count": null,
   "metadata": {},
   "outputs": [],
   "source": [
    "# For every exchange, fetch it's markets. Then depending on the JSON returned, prepare a list of coins for which historical data has to be downloaded.\n",
    "def setupExchanges(list_of_exchanges):\n",
    "    done = False\n",
    "    i=0\n",
    "    #df_markets = pd.DataFrame(markets)\n",
    "    #bittrex_market = bittrex_exchange.fetchMarkets()\n",
    "    #binance_market = binance_exchange.fetchMarkets()\n",
    "    #kucoin_market = kucoin_exchange.fetchMarkets()\n",
    "    #list_of_markets = [#bittrex_market,\n",
    "                       #binance_market\n",
    "     #                  kucoin_market #For kucoin the fetchMarkets function returns different dictionary keys\n",
    "      #                  ]\n",
    "\n",
    "    list_of_tuples = []\n",
    "    for exchange in list_of_exchanges:\n",
    "        coins_list = set()\n",
    "        #if exchange.name == 'Cryptopia' or exchange.name == 'Bittrex' or exchange.name == 'Kucoin' or exchange.name == 'Huobi Pro':\n",
    "            #continue #exchange.name == 'Binance' or \n",
    "        markets = exchange.fetchMarkets()\n",
    "        pprint.pprint(markets[0])\n",
    "        sys.exit(0)\n",
    "        for row in markets:\n",
    "            #row.base,row.quote,row.symbol,row.type,row.active\n",
    "            #print(row.keys())\n",
    "            tuple_data = (exchange.name,row['base'],row['quote'],row['symbol'],row['active'])\n",
    "            list_of_tuples.append(tuple_data)\n",
    "            \n",
    "    return list_of_tuples"
   ]
  },
  {
   "cell_type": "code",
   "execution_count": null,
   "metadata": {},
   "outputs": [],
   "source": []
  },
  {
   "cell_type": "code",
   "execution_count": null,
   "metadata": {},
   "outputs": [],
   "source": [
    "setupExchanges(list_of_exchanges)"
   ]
  },
  {
   "cell_type": "code",
   "execution_count": null,
   "metadata": {},
   "outputs": [],
   "source": [
    "def fetchTrades(exchange,symbol,start_time,end_time,how_many_result_limit,api_rate_limit,current_trade_id):\n",
    "        #since = milliseconds - 86400000  # -1 day from now\n",
    "        # alternatively, fetch from a certain starting datetime\n",
    "        all_trades = []\n",
    "        first_order_time = -1\n",
    "        while start_time < end_time:\n",
    "            print(start_time,end_time,len(all_trades),current_trade_id)\n",
    "            trades =  exchange.fetch_trades(symbol, start_time, how_many_result_limit)\n",
    "            time.sleep(api_rate_limit)\n",
    "            #pprint.pprint(trades[0])\n",
    "            #sys.exit(0)\n",
    "            if len(trades):\n",
    "                start_time = trades[len(trades) - 1]['timestamp']\n",
    "                if trades[len(trades) - 1]['id'] == current_trade_id:\n",
    "                    break\n",
    "                current_trade_id = trades[len(trades) - 1]['id']\n",
    "                if first_order_time == -1:\n",
    "                    first_order_time = trades[0]['timestamp']\n",
    "                all_trades += trades\n",
    "            else:\n",
    "                break\n",
    "            #print(start_time,end_time)\n",
    "        return (all_trades,first_order_time,current_trade_id)"
   ]
  },
  {
   "cell_type": "code",
   "execution_count": null,
   "metadata": {},
   "outputs": [],
   "source": [
    "#for exchange in list_of_exchanges:\n",
    "all_trades = []\n",
    "for exchange in list_of_exchanges:\n",
    "    if exchange.has['fetchTrades']:\n",
    "        markets = exchange.fetchMarkets()\n",
    "        for row in markets:\n",
    "            start_time = exchange.milliseconds() - one_day_in_milliseconds\n",
    "            #start_time = binance_exchange.milliseconds() - 60000\n",
    "            end_time = exchange.milliseconds()\n",
    "            rate_limit = exchange.rateLimit/1000\n",
    "            got_trades = True\n",
    "            i=1\n",
    "            current_trade_id = -1\n",
    "            symbol = row['symbol']\n",
    "            while(got_trades):\n",
    "                print(start_time,end_time,'hello',len(all_trades))\n",
    "                trades_and_first_trade_time = fetchTrades(exchange,symbol,start_time,end_time,\n",
    "                                                                      limit_of_trades_to_be_downloaded_from_exchange[exchange],\n",
    "                                                         rate_limit,current_trade_id)\n",
    "                if len(trades_and_first_trade_time[0]):\n",
    "                    if trades_and_first_trade_time[2] == current_trade_id:\n",
    "                        break\n",
    "                    current_trade_id = trades_and_first_trade_time[2]\n",
    "                    all_trades += trades_and_first_trade_time[0]\n",
    "                    end_time = start_time\n",
    "                    start_time = start_time-one_day_in_milliseconds\n",
    "                else:\n",
    "                    got_trades = False\n",
    "                    break\n"
   ]
  },
  {
   "cell_type": "code",
   "execution_count": null,
   "metadata": {},
   "outputs": [],
   "source": []
  },
  {
   "cell_type": "code",
   "execution_count": null,
   "metadata": {},
   "outputs": [],
   "source": [
    "for exchange in list_of_exchanges:\n",
    "    if exchange.has['fetchTrades']:\n",
    "        markets = exchange.fetchMarkets()\n",
    "        for row in markets:\n",
    "            got_trades = true\n",
    "            all_trades = []\n",
    "            start_time = exchange.milliseconds()\n",
    "            end_time = one_day_in_milliseconds\n",
    "            while(boolean_got_trades):\n",
    "                trades_and_first_trade_time = fetchTrades(exchange,row['symbol'],start_time,end_time,\n",
    "                                                          limit_of_trades_to_be_downloaded_from_exchange)\n",
    "                if len(trades_and_first_trade_time[0]):\n",
    "                    all_trades += trades_and_first_trade_time[0]\n",
    "                    start_time = trades_and_first_trade_time[1]-one_day_in_milliseconds\n",
    "                    end_time = trades_and_first_trade_time[1]\n",
    "                else:\n",
    "                    boolean_got_trades = false\n",
    "                    break\n",
    "                    "
   ]
  },
  {
   "cell_type": "code",
   "execution_count": null,
   "metadata": {},
   "outputs": [],
   "source": [
    "def fetchOrders(exchange,symbol,since,limit,milliseconds):\n",
    "    if exchange.has['fetchOrders']:\n",
    "        since = milliseconds - 86400000  # -1 day from now\n",
    "        # alternatively, fetch from a certain starting datetime\n",
    "        # since = exchange.parse8601('2018-01-01T00:00:00Z')\n",
    "        all_orders = []\n",
    "        while since < exchange.milliseconds ():\n",
    "            symbol = None  # change for your symbol\n",
    "            limit = 20  # change for your limit\n",
    "            orders = await exchange.fetch_orders(symbol, since, limit)\n",
    "            if len(orders):\n",
    "                since = orders[len(orders) - 1]['timestamp']\n",
    "                all_orders += orders\n",
    "            else:\n",
    "                break"
   ]
  },
  {
   "cell_type": "code",
   "execution_count": null,
   "metadata": {},
   "outputs": [],
   "source": [
    "def fetchOHLCV(exchange,symbol,timeframe,start_time,end_time,how_many_result_limit,api_rate_limit):\n",
    "    all_OHLCV = []\n",
    "    first_OHLCV_Candle_time = -1\n",
    "    previous_start_time = -1\n",
    "    while start_time < end_time:\n",
    "        print(start_time,end_time,len(all_OHLCV))\n",
    "        OHLCV_data =  exchange.fetchOHLCV(symbol,timeframe, start_time, how_many_result_limit)\n",
    "        time.sleep(api_rate_limit)\n",
    "        #pprint.pprint(trades[0])\n",
    "        #sys.exit(0)\n",
    "        if len(OHLCV_data):\n",
    "            if previous_start_time == start_time:\n",
    "                break\n",
    "            previous_start_time = start_time\n",
    "            start_time = OHLCV_data[len(OHLCV_data) - 1][0]\n",
    "            if first_OHLCV_Candle_time == -1:\n",
    "                first_OHLCV_Candle_time = OHLCV_data[0][0]\n",
    "            all_OHLCV += OHLCV_data\n",
    "        else:\n",
    "            break\n",
    "        #print(start_time,end_time)\n",
    "    return (all_OHLCV,first_OHLCV_Candle_time)"
   ]
  },
  {
   "cell_type": "code",
   "execution_count": null,
   "metadata": {},
   "outputs": [],
   "source": [
    "all_OHLCV = []\n",
    "for exchange in list_of_exchanges:\n",
    "    if exchange.has['fetchOHLCV']:\n",
    "        timeframes = exchange.timeframes.keys()\n",
    "        for timeframe in timeframes:\n",
    "            markets = exchange.fetchMarkets()\n",
    "            for row in markets:\n",
    "                start_time = exchange.milliseconds() - one_day_in_milliseconds\n",
    "                end_time = exchange.milliseconds()\n",
    "                rate_limit = exchange.rateLimit/1000\n",
    "                gotOHLCV = True\n",
    "                #current_trade_id = -1\n",
    "                symbol = row['symbol']\n",
    "                while(gotOHLCV):\n",
    "                    print(start_time,end_time,'hello',len(all_OHLCV))\n",
    "                    OHLCV_data = fetchOHLCV(exchange,symbol,timeframe,start_time,end_time,\n",
    "                                                                          limit_of_trades_to_be_downloaded_from_exchange[exchange],\n",
    "                                                             rate_limit)\n",
    "                    if len(OHLCV_data[0]):\n",
    "                        all_OHLCV += OHLCV_data[0]\n",
    "                        end_time = start_time\n",
    "                        start_time = start_time-one_day_in_milliseconds\n",
    "                    else:\n",
    "                        gotOHLCV = False\n",
    "                        break\n",
    "        "
   ]
  },
  {
   "cell_type": "code",
   "execution_count": null,
   "metadata": {},
   "outputs": [],
   "source": [
    "tickers_list = []\n",
    "def fetchTickers():\n",
    "    for exchange in list_of_exchanges:\n",
    "        if exchange.has['fetchTickers']:\n",
    "            tickers = exchange.fetch_tickers()\n",
    "            tickers_list.append(tickers)\n",
    "        else:\n",
    "            markets = exchange.fetch_markets()\n",
    "            for row in markets:\n",
    "                tickers = exchange.fetch_ticker(row['symbol'])\n",
    "                tickers_list.append(tickers)"
   ]
  },
  {
   "cell_type": "code",
   "execution_count": null,
   "metadata": {},
   "outputs": [],
   "source": [
    "exchange = coinbasePro\n",
    "if exchange.has['fetchTickers']:\n",
    "    tickers = exchange.fetch_tickers()\n",
    "    print(tickers[0])\n",
    "else:\n",
    "    ticker = exchange.fetch_ticker('ETH/BTC');\n",
    "    print(ticker)"
   ]
  },
  {
   "cell_type": "code",
   "execution_count": 72,
   "metadata": {},
   "outputs": [
    {
     "data": {
      "text/plain": [
       "module"
      ]
     },
     "execution_count": 72,
     "metadata": {},
     "output_type": "execute_result"
    }
   ],
   "source": [
    "type(blockchair)"
   ]
  },
  {
   "cell_type": "code",
   "execution_count": 75,
   "metadata": {},
   "outputs": [],
   "source": [
    "\n",
    "blockchair\n",
    "l = dir(blockchair)\n",
    "d = blockchair.__dict__"
   ]
  },
  {
   "cell_type": "code",
   "execution_count": null,
   "metadata": {},
   "outputs": [],
   "source": [
    "pprint.pprint(d)"
   ]
  },
  {
   "cell_type": "code",
   "execution_count": null,
   "metadata": {},
   "outputs": [],
   "source": [
    "blockchair_api = Blockchair()"
   ]
  }
 ],
 "metadata": {
  "kernelspec": {
   "display_name": "Python 3",
   "language": "python",
   "name": "python3"
  },
  "language_info": {
   "codemirror_mode": {
    "name": "ipython",
    "version": 3
   },
   "file_extension": ".py",
   "mimetype": "text/x-python",
   "name": "python",
   "nbconvert_exporter": "python",
   "pygments_lexer": "ipython3",
   "version": "3.7.1"
  }
 },
 "nbformat": 4,
 "nbformat_minor": 4
}