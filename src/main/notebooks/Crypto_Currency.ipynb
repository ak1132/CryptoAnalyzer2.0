{
 "cells": [
  {
   "cell_type": "markdown",
   "metadata": {},
   "source": [
    "# TO DO:\n",
    "\n",
    "- Make generic functions for tasks for modularity\n",
    "- CRON jobs for all timeframes\n",
    "- One function to update all csvs\n",
    "- Plug n play for indicators\n",
    "- Add limit to queries\n",
    "- Include Active/Inactive column in CSV for active/inactive coins\n",
    "- Update_CSV_to_Latest should contain active coins from Exchanges and From CSV. Check if a (coin,exchange) tuple is active(Check if it is present on exchange using ccxt library) . If it is active   get latest data for it if already present in CSV,if not in CSV get all data. If coin is not active on exchange , we will put a Active/Inactive status in CSV accordingly. All functions will have   to be modified to run code only for active coin-exchange combinations.\n",
    "- Date Format will be '%d-%m-%Y %H:%M:%S' . This is giving me a lot of problems especially while reading data. When I don't put :%S it tells me dataframe has second and sometimes when :%S is         there, it tells me no second value in dataframe.\n",
    "- Analytics Value Accuracy. Some parameter in Jupyter.\n",
    "- Have to fetch Coins based on Parameters. Example - Fetch all active coins-exchange combinations where RSI>0 and RSI<=30. Fetch all active coins-exchange combinations where closing price is         between LOWERBAND and MIDDLEBAND. Get me intersection(common coins) of these 2 list. Now the coin from the intersection list which probably has the lowest volume can increase in price faster       then the others(Little increase in Volume will result in Big increase in Price)\n",
    "- For each active coin-exchange combination I want to check the change in Value of different Technical Indicators of 2 consecutive periods in time. Example - I want to know if for a particular       coin RSI=a on period x and RSI>a on period x+1. I want to know whenever MACD and MACD_SIGNAL cross each other(On period x MACD=a and MACD_SIGNAL=b where a<=b and on period x+1 MACD=a and           MACD_SIGNAL=b where a>b. MACD_HISTOGRAM same like RSI want to know when it is 'a' on period x and 'a++' on period x+1).\n",
    "- Convert 1D timeframe to 3D/1Week/etc. Convert 1H timeframe to 4H/6H/etc.\n",
    "- Batch Processing of downloading new coins data\n"
   ]
  },
  {
   "cell_type": "code",
   "execution_count": null,
   "metadata": {},
   "outputs": [],
   "source": [
    "#import sys\n",
    "#!conda install --yes --prefix {sys.prefix} yaml"
   ]
  },
  {
   "cell_type": "code",
   "execution_count": null,
   "metadata": {},
   "outputs": [],
   "source": [
    "#import sys\n",
    "#!{sys.executable} -m pip install ratelimit"
   ]
  },
  {
   "cell_type": "code",
   "execution_count": null,
   "metadata": {},
   "outputs": [],
   "source": [
    "#print(yaml.__file__)\n"
   ]
  },
  {
   "cell_type": "code",
   "execution_count": null,
   "metadata": {},
   "outputs": [],
   "source": [
    "import os\n",
    "import time\n",
    "#import talib\n",
    "import logging\n",
    "import requests\n",
    "import datetime\n",
    "import importlib\n",
    "import dateutil.parser\n",
    "import ccxt\n",
    "import numpy as np\n",
    "import pandas as pd\n",
    "from importlib import reload\n",
    "from collections import defaultdict\n",
    "import sys\n",
    "import inspect\n",
    "import pyti\n",
    "import pprint\n",
    "from apscheduler.schedulers.background import BackgroundScheduler\n",
    "from sqlalchemy import create_engine, MetaData, Table, Column, Integer, String\n",
    "import yaml"
   ]
  },
  {
   "cell_type": "code",
   "execution_count": null,
   "metadata": {},
   "outputs": [],
   "source": [
    "coinmetrics_wrapper = 'coinmetrics_wrapper.py'\n",
    "coinmetrics_wrapper"
   ]
  },
  {
   "cell_type": "code",
   "execution_count": null,
   "metadata": {},
   "outputs": [],
   "source": [
    "import coinmetrics_wrapper as coinmetrics\n",
    "reload(coinmetrics)"
   ]
  },
  {
   "cell_type": "code",
   "execution_count": null,
   "metadata": {},
   "outputs": [],
   "source": [
    "importlib.reload(logging)\n",
    "LOGGING_FORMAT = '%(asctime)s - %(levelname)s - %(message)s'\n",
    "logging.basicConfig(format=LOGGING_FORMAT, level=logging.\n",
    "                    INFO)\n",
    "#sqlalchemy.__version__\n",
    "pd.__version__"
   ]
  },
  {
   "cell_type": "code",
   "execution_count": null,
   "metadata": {},
   "outputs": [],
   "source": [
    "# FIELDS\n",
    "PRICE = 'PRICE'\n",
    "HIGH = 'HIGH24HOUR'\n",
    "LOW = 'LOW24HOUR'\n",
    "VOLUME = 'VOLUME24HOUR'\n",
    "CHANGE = 'CHANGE24HOUR'\n",
    "CHANGE_PERCENT = 'CHANGEPCT24HOUR'\n",
    "MARKETCAP = 'MKTCAP'\n",
    "NPERIODS = 100\n",
    "TIMEFRAME = 'Day'\n",
    "datetimeStringformat_to_csv = \"%d-%m-%Y %H:%M\"\n",
    "one_day_in_milliseconds = 86400000\n",
    "data_directory = '/Users/ankitaggarwal/Applications/Cryptocurrency Trading System/crypto-analysis/data/'"
   ]
  },
  {
   "cell_type": "code",
   "execution_count": null,
   "metadata": {},
   "outputs": [],
   "source": []
  },
  {
   "cell_type": "code",
   "execution_count": null,
   "metadata": {},
   "outputs": [],
   "source": [
    "# Defaults\n",
    "# Get All the exchange objects\n",
    "bittrex_exchange = ccxt.bittrex({\n",
    "    'enableRateLimit': True,\n",
    "})\n",
    "binance_exchange = ccxt.binance({\n",
    "    'enableRateLimit': True,\n",
    "})\n",
    "coinbasePro = ccxt.coinbasepro({\n",
    "    'enableRateLimit': True,\n",
    "})\n",
    "\n",
    "\"\"\"\n",
    "kucoin_exchange = ccxt.kucoin()\n",
    "huobiPro_exchange = ccxt.huobipro()\n",
    "bitmex_exchange = ccxt.bitmex()\n",
    "\"\"\"\n",
    "\n",
    "\n",
    "list_of_exchanges = [coinbasePro,binance_exchange]\n",
    "function_period_mapping = {\n",
    "    'assets': coinmetrics.get_coin_list,\n",
    "    'exchanges': coinmetrics.get_exchanges_list,\n",
    "    'markets': coinmetrics.get_markets_list,\n",
    "    'metrics' : coinmetrics.get_metrics_list,\n",
    "    'metric_info' : coinmetrics.get_metrics_info_list\n",
    "}"
   ]
  },
  {
   "cell_type": "code",
   "execution_count": null,
   "metadata": {},
   "outputs": [],
   "source": [
    "# Limit of Results each exchange Sends over HTTPS Request\n",
    "limit_of_trades_to_be_downloaded_from_exchange = {binance_exchange :500,coinbasePro:100} # got this from online API Documentation\n",
    "API_RATE_LIMIT = {binance_exchange:{'Number of Calls':1,'Number Of Seconds':binance_exchange.rateLimit//1000}\n",
    "                  ,coinbasePro:{'Number of Calls':1,'Number Of Seconds':coinbasePro.rateLimit//1000}}"
   ]
  },
  {
   "cell_type": "markdown",
   "metadata": {},
   "source": [
    "# Print All the Keys of the Exchange Variable"
   ]
  },
  {
   "cell_type": "code",
   "execution_count": null,
   "metadata": {},
   "outputs": [],
   "source": [
    "pprint.pprint(vars(coinbasePro))"
   ]
  },
  {
   "cell_type": "code",
   "execution_count": null,
   "metadata": {},
   "outputs": [],
   "source": [
    "pprint.pprint(vars(binance_exchange))"
   ]
  },
  {
   "cell_type": "code",
   "execution_count": null,
   "metadata": {},
   "outputs": [],
   "source": [
    "binance_exchange.milliseconds()"
   ]
  },
  {
   "cell_type": "code",
   "execution_count": null,
   "metadata": {},
   "outputs": [],
   "source": [
    "binance_exchange.to_datetime()\n"
   ]
  },
  {
   "cell_type": "markdown",
   "metadata": {},
   "source": [
    "# For All Exchanges, Get Some of It's Properties"
   ]
  },
  {
   "cell_type": "code",
   "execution_count": null,
   "metadata": {},
   "outputs": [],
   "source": [
    "def data_fetching_capabilities(attribute,meaning):\n",
    "    list_data_fetching_capabilities = []\n",
    "    for (k,v) in attribute.items():\n",
    "        list_data_fetching_capabilities.append({k+''+meaning:v})\n",
    "    return list_data_fetching_capabilities\n",
    "    "
   ]
  },
  {
   "cell_type": "code",
   "execution_count": null,
   "metadata": {},
   "outputs": [],
   "source": [
    "# For every exchange, fetch it's markets. Then depending on the JSON returned, prepare a list of coins for which historical data has to be downloaded.\n",
    "list_of_exchange_properties =[]\n",
    "def setupExchanges(list_of_exchanges):\n",
    "    for exchange in list_of_exchanges:\n",
    "        tuple_data = []\n",
    "        exchange_id = {'id':exchange.id}\n",
    "        exchange_name = {'name':exchange.name}\n",
    "        exchange_countries = {'countries':exchange.countries}\n",
    "        exchange_url_api = data_fetching_capabilities(exchange.urls['api'],'API')\n",
    "        tuple_data = tuple_data+exchange_url_api\n",
    "        exchange_url_www = {'exchange_url_www':exchange.urls['www']}\n",
    "        exchange_url_doc = {'exchange_url_doc':exchange.urls['doc']}\n",
    "        exchange_version = {'exchange_version':exchange.version}\n",
    "        exchange_timeout = {'exchange_timeout':exchange.timeout}\n",
    "        exchange_ratelimit = {'exchange_ratelimit':exchange.rateLimit}\n",
    "        exchange_enable_rate_limit = {'exchange_enable_rate_limit':exchange.enableRateLimit}\n",
    "        exchange_precisionMode = {'exchange_precisionMode':exchange.precisionMode}\n",
    "        exchange_proxy = {'exchange_proxy':exchange.proxy}\n",
    "        list_of_exchange_data_fetching_capabilities = data_fetching_capabilities(exchange.has,'Exchange_historical_data')\n",
    "        tuple_data = tuple_data + list_of_exchange_data_fetching_capabilities\n",
    "        tuple_data = tuple_data + [exchange_id,exchange_name,exchange_countries,exchange_url_api,exchange_url_www,\n",
    "                   exchange_url_doc,exchange_version,exchange_timeout,\n",
    "                      exchange_precisionMode,exchange_proxy]\n",
    "        list_of_exchange_properties.append(tuple_data)\n",
    "    return list_of_exchange_properties\n"
   ]
  },
  {
   "cell_type": "code",
   "execution_count": null,
   "metadata": {},
   "outputs": [],
   "source": [
    "exchange_data = setupExchanges(list_of_exchanges)"
   ]
  },
  {
   "cell_type": "code",
   "execution_count": null,
   "metadata": {},
   "outputs": [],
   "source": [
    "print(exchange_data[0])"
   ]
  },
  {
   "cell_type": "markdown",
   "metadata": {},
   "source": [
    "# For All Exchanges, Get It's Markets"
   ]
  },
  {
   "cell_type": "code",
   "execution_count": null,
   "metadata": {},
   "outputs": [],
   "source": [
    "def setupMarkets(list_of_exchanges):\n",
    "    list_of_tuples = []\n",
    "    for exchange in list_of_exchanges:\n",
    "        coins_list = set()\n",
    "        #if exchange.name == 'Cryptopia' or exchange.name == 'Bittrex' or exchange.name == 'Kucoin' or exchange.name == 'Huobi Pro':\n",
    "            #continue #exchange.name == 'Binance' or \n",
    "        markets = exchange.fetchMarkets()\n",
    "        pprint.pprint(len(markets))\n",
    "        #sys.exit(0)\n",
    "        for row in markets:\n",
    "            #row.base,row.quote,row.symbol,row.type,row.active\n",
    "            list_of_market_attributes = []\n",
    "            row_exchange = {'exchange':exchange.id}\n",
    "            row_id = {'market_id':row['id']}\n",
    "            row_symbol = {'market_symbol':row['symbol']}\n",
    "            row_base = {'market_base':row['base']}\n",
    "            row_quote = {'market_quote':row['quote']}\n",
    "            row_base_id = {'market_base_id':row['baseId']}\n",
    "            row_quote_id = {'market_quote_id':row['quoteId']}\n",
    "            row_active = {'market_active_status':row['active']}\n",
    "            \n",
    "            if 'maker' in row:\n",
    "                row_maker = {'market_maker_fees':row['maker']}\n",
    "                list_of_market_attributes = list_of_market_attributes + [row_maker]\n",
    "            if 'taker' in row:\n",
    "                row_taker = {'market_taker_fees':row['taker']}\n",
    "                list_of_market_attributes = list_of_market_attributes + [row_taker]\n",
    "            if 'percentage' in row:\n",
    "                row_percentage = {'market_percentage_boolean':row['percentage']}\n",
    "                list_of_market_attributes = list_of_market_attributes + [row_percentage]\n",
    "            if 'tierBased' in row:\n",
    "                row_tiered_based = {'market_tiered_base':row['tierBased']}\n",
    "                list_of_market_attributes = list_of_market_attributes + [row_tiered_based]\n",
    "\n",
    "            row_precision = data_fetching_capabilities(row['precision'],\"NumberOfDecimalDigitsAfterDot\")\n",
    "            list_of_market_attributes = list_of_market_attributes + row_precision\n",
    "            \n",
    "            row_limit_amount = data_fetching_capabilities(row['limits']['amount'],\"VolumeOfOrder\")\n",
    "            list_of_market_attributes = list_of_market_attributes + row_limit_amount\n",
    "            \n",
    "            row_limit_price = data_fetching_capabilities(row['limits']['price'],\"PriceOfOrder\")\n",
    "            list_of_market_attributes = list_of_market_attributes + row_limit_price\n",
    "            \n",
    "            row_limit_cost = data_fetching_capabilities(row['limits']['cost'],\"CostOfOrder\")\n",
    "            list_of_market_attributes = list_of_market_attributes + row_limit_cost\n",
    "            \n",
    "            list_of_market_attributes = list_of_market_attributes + [row_id,row_symbol,row_base,row_quote,\n",
    "            row_base_id,row_quote_id,row_active,row_exchange]\n",
    "            #print(row.keys())\n",
    "            list_of_tuples.append(list_of_market_attributes)\n",
    "            \n",
    "    return list_of_tuples\n"
   ]
  },
  {
   "cell_type": "code",
   "execution_count": null,
   "metadata": {},
   "outputs": [],
   "source": [
    "list_of_markets = setupMarkets(list_of_exchanges)"
   ]
  },
  {
   "cell_type": "code",
   "execution_count": null,
   "metadata": {},
   "outputs": [],
   "source": [
    "print(list_of_markets[0])"
   ]
  },
  {
   "cell_type": "code",
   "execution_count": null,
   "metadata": {},
   "outputs": [],
   "source": []
  },
  {
   "cell_type": "markdown",
   "metadata": {},
   "source": [
    "\n",
    "## For All the Exchanges, if it sends Historical Trade Data, Get It, Some Exchanges Only Send Recent Trade Data(Top 100),\n",
    "## others will send complete Trade Data. Define interval - (todays time in UTC milliseconds - 1 day,todays time in UTC milliseconds)\n",
    " ## and keep going back\n",
    " "
   ]
  },
  {
   "cell_type": "code",
   "execution_count": null,
   "metadata": {},
   "outputs": [],
   "source": [
    "def fetchTrades(exchange,symbol,start_time,end_time,how_many_result_limit,api_rate_limit,current_trade_id):\n",
    "        #since = milliseconds - 86400000  # -1 day from now\n",
    "        # alternatively, fetch from a certain starting datetime\n",
    "        all_trades = []\n",
    "        first_order_time = -1\n",
    "        while start_time < end_time:\n",
    "            print(start_time,end_time,len(all_trades),current_trade_id)\n",
    "            trades =  exchange.fetch_trades(symbol, start_time, how_many_result_limit)\n",
    "            time.sleep(api_rate_limit)\n",
    "            #pprint.pprint(trades[0])\n",
    "            #sys.exit(0)\n",
    "            if len(trades):\n",
    "                start_time = trades[len(trades) - 1]['timestamp']\n",
    "                if trades[len(trades) - 1]['id'] == current_trade_id:\n",
    "                    break\n",
    "                current_trade_id = trades[len(trades) - 1]['id']\n",
    "                if first_order_time == -1:\n",
    "                    first_order_time = trades[0]['timestamp']\n",
    "                all_trades += trades\n",
    "            else:\n",
    "                break\n",
    "            #print(start_time,end_time)\n",
    "        return (all_trades,first_order_time,current_trade_id)"
   ]
  },
  {
   "cell_type": "code",
   "execution_count": null,
   "metadata": {},
   "outputs": [],
   "source": [
    "#for exchange in list_of_exchanges:\n",
    "all_trades = []\n",
    "for exchange in list_of_exchanges:\n",
    "    if exchange.has['fetchTrades']:\n",
    "        markets = exchange.fetchMarkets()\n",
    "        for row in markets:\n",
    "            start_time = exchange.milliseconds() - one_day_in_milliseconds\n",
    "            end_time = exchange.milliseconds()\n",
    "            rate_limit = exchange.rateLimit/1000\n",
    "            got_trades = True\n",
    "            i=1\n",
    "            current_trade_id = -1\n",
    "            symbol = row['symbol']\n",
    "            while(got_trades):\n",
    "                print(start_time,end_time,'hello',len(all_trades))\n",
    "                trades_and_first_trade_time = fetchTrades(exchange,symbol,start_time,end_time,\n",
    "                                                                      limit_of_trades_to_be_downloaded_from_exchange[exchange],\n",
    "                                                         rate_limit,current_trade_id)\n",
    "                if len(trades_and_first_trade_time[0]):\n",
    "                    if trades_and_first_trade_time[2] == current_trade_id:\n",
    "                        break\n",
    "                    current_trade_id = trades_and_first_trade_time[2]\n",
    "                    all_trades += trades_and_first_trade_time[0]\n",
    "                    end_time = start_time\n",
    "                    start_time = start_time-one_day_in_milliseconds\n",
    "                else:\n",
    "                    got_trades = False\n",
    "                    break\n"
   ]
  },
  {
   "cell_type": "code",
   "execution_count": null,
   "metadata": {},
   "outputs": [],
   "source": [
    "def fetchOrders(exchange,symbol,since,limit,milliseconds):\n",
    "    if exchange.has['fetchOrders']:\n",
    "        since = milliseconds - 86400000  # -1 day from now\n",
    "        # alternatively, fetch from a certain starting datetime\n",
    "        # since = exchange.parse8601('2018-01-01T00:00:00Z')\n",
    "        all_orders = []\n",
    "        while since < exchange.milliseconds ():\n",
    "            symbol = None  # change for your symbol\n",
    "            limit = 20  # change for your limit\n",
    "            orders = await exchange.fetch_orders(symbol, since, limit)\n",
    "            if len(orders):\n",
    "                since = orders[len(orders) - 1]['timestamp']\n",
    "                all_orders += orders\n",
    "            else:\n",
    "                break"
   ]
  },
  {
   "cell_type": "code",
   "execution_count": null,
   "metadata": {},
   "outputs": [],
   "source": [
    "def fetchOHLCV(exchange,symbol,timeframe,start_time,end_time,how_many_result_limit,api_rate_limit):\n",
    "    all_OHLCV = []\n",
    "    first_OHLCV_Candle_time = -1\n",
    "    previous_start_time = -1\n",
    "    while start_time < end_time:\n",
    "        print(start_time,end_time,len(all_OHLCV))\n",
    "        OHLCV_data =  exchange.fetchOHLCV(symbol,timeframe, start_time, how_many_result_limit)\n",
    "        time.sleep(api_rate_limit)\n",
    "        #pprint.pprint(trades[0])\n",
    "        #sys.exit(0)\n",
    "        if len(OHLCV_data):\n",
    "            if previous_start_time == start_time:\n",
    "                break\n",
    "            previous_start_time = start_time\n",
    "            start_time = OHLCV_data[len(OHLCV_data) - 1][0]\n",
    "            if first_OHLCV_Candle_time == -1:\n",
    "                first_OHLCV_Candle_time = OHLCV_data[0][0]\n",
    "            all_OHLCV += OHLCV_data\n",
    "        else:\n",
    "            break\n",
    "        #print(start_time,end_time)\n",
    "    return (all_OHLCV,first_OHLCV_Candle_time)"
   ]
  },
  {
   "cell_type": "code",
   "execution_count": null,
   "metadata": {},
   "outputs": [],
   "source": [
    "all_OHLCV = []\n",
    "for exchange in list_of_exchanges:\n",
    "    if exchange.has['fetchOHLCV']:\n",
    "        timeframes = exchange.timeframes.keys()\n",
    "        for timeframe in timeframes:\n",
    "            markets = exchange.fetchMarkets()\n",
    "            for row in markets:\n",
    "                start_time = exchange.milliseconds() - one_day_in_milliseconds\n",
    "                end_time = exchange.milliseconds()\n",
    "                rate_limit = exchange.rateLimit/1000\n",
    "                gotOHLCV = True\n",
    "                #current_trade_id = -1\n",
    "                symbol = row['symbol']\n",
    "                while(gotOHLCV):\n",
    "                    print(start_time,end_time,'hello',len(all_OHLCV))\n",
    "                    OHLCV_data = fetchOHLCV(exchange,symbol,timeframe,start_time,end_time,\n",
    "                                                                          limit_of_trades_to_be_downloaded_from_exchange[exchange],\n",
    "                                                             rate_limit)\n",
    "                    if len(OHLCV_data[0]):\n",
    "                        all_OHLCV += OHLCV_data[0]\n",
    "                        end_time = start_time\n",
    "                        start_time = start_time-one_day_in_milliseconds\n",
    "                    else:\n",
    "                        gotOHLCV = False\n",
    "                        break\n",
    "        "
   ]
  },
  {
   "cell_type": "code",
   "execution_count": null,
   "metadata": {},
   "outputs": [],
   "source": [
    "tickers_list = []\n",
    "def fetchTickers():\n",
    "    for exchange in list_of_exchanges:\n",
    "        if exchange.has['fetchTickers']:\n",
    "            tickers = exchange.fetch_tickers()\n",
    "            tickers_list.append(tickers)\n",
    "        else:\n",
    "            markets = exchange.fetch_markets()\n",
    "            for row in markets:\n",
    "                tickers = exchange.fetch_ticker(row['symbol'])\n",
    "                tickers_list.append(tickers)\n",
    "    tickers_dataframe = pd.DataFrame(tickers_list).transpose()\n",
    "    return tickers_dataframe\n",
    "fetchTickers()"
   ]
  },
  {
   "cell_type": "code",
   "execution_count": null,
   "metadata": {},
   "outputs": [],
   "source": [
    "#Experimental Cell\n",
    "exchange = binance_exchange\n",
    "if exchange.has['fetchTickers']:\n",
    "    tickers = exchange.fetch_tickers()\n",
    "    \n",
    "    tickers_dataframe = pd.DataFrame(tickers).transpose()\n",
    "    print(tickers_dataframe.head())\n",
    "else:\n",
    "    ticker = exchange.fetch_ticker('ETH/BTC');\n",
    "    print(ticker)"
   ]
  },
  {
   "cell_type": "code",
   "execution_count": null,
   "metadata": {},
   "outputs": [],
   "source": [
    "print(pd.json_normalize(tickers))\n"
   ]
  },
  {
   "cell_type": "code",
   "execution_count": null,
   "metadata": {},
   "outputs": [],
   "source": [
    "def get_coin_metrics_data(data_parameter):\n",
    "    data = function_period_mapping[data_parameter]()\n",
    "    #print(data)\n",
    "    return data"
   ]
  },
  {
   "cell_type": "code",
   "execution_count": null,
   "metadata": {},
   "outputs": [],
   "source": [
    "get_coin_metrics_data('metrics')"
   ]
  },
  {
   "cell_type": "code",
   "execution_count": null,
   "metadata": {},
   "outputs": [],
   "source": [
    "metric_info_json_file = get_coin_metrics_data('metric_info')\n",
    "metric_info_json_file['metricsInfo']"
   ]
  },
  {
   "cell_type": "code",
   "execution_count": null,
   "metadata": {},
   "outputs": [],
   "source": [
    "print(pd.json_normalize(metric_info_json_file['metricsInfo']))"
   ]
  },
  {
   "cell_type": "code",
   "execution_count": null,
   "metadata": {},
   "outputs": [],
   "source": [
    "pd.json_normalize?"
   ]
  },
  {
   "cell_type": "code",
   "execution_count": null,
   "metadata": {},
   "outputs": [],
   "source": []
  }
 ],
 "metadata": {
  "kernelspec": {
   "display_name": "crypto",
   "language": "python",
   "name": "crypto"
  },
  "language_info": {
   "codemirror_mode": {
    "name": "ipython",
    "version": 3
   },
   "file_extension": ".py",
   "mimetype": "text/x-python",
   "name": "python",
   "nbconvert_exporter": "python",
   "pygments_lexer": "ipython3",
   "version": "3.8.3"
  }
 },
 "nbformat": 4,
 "nbformat_minor": 4
}
